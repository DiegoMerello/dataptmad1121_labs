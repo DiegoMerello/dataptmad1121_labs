{
 "cells": [
  {
   "cell_type": "code",
   "execution_count": null,
   "id": "d6c14e8e",
   "metadata": {},
   "outputs": [],
   "source": [
    "string_numero_introducido = str(numero_introducido)\n",
    "longitud_numero = len(string_numero_introducido)\n",
    "\n",
    "if longitud_numero%2==0:\n",
    "    indice_mitad_superior = longitud_numero//2\n",
    "    indice_mitad_inferior = indice_mitad_superior-1\n",
    "    lado_izquierda = string_numero_introducido[0:indice_mitad_inferior]\n",
    "    lado_derecha = string_numero_introducido[indice_mitad_superior+1:]   \n",
    "else:\n",
    "    mitad = longitud_numero//2\n",
    "    lado_izquierda = string_numero_introducido[0:mitad]\n",
    "    lado_derecha = string_numero_introducido[mitad+1:]\n",
    "    \n",
    "suma_derecha = 0\n",
    "for cifra in lado_derecha:\n",
    "    int_cifra = int(cifra)\n",
    "    suma_derecha = suma_derecha + int_cifra\n",
    "\n",
    "suma_izquierda = 0\n",
    "for cifra in lado_izquierda:\n",
    "    int_cifra = int(cifra)\n",
    "    suma_izquierda = suma_izquierda + int_cifra\n",
    "\n",
    "if suma_derecha == suma_izquierda:\n",
    "    print(\"Balanced\")\n",
    "else:\n",
    "    print(\"Not Balanced\")"
   ]
  }
 ],
 "metadata": {
  "kernelspec": {
   "display_name": "Python 3",
   "language": "python",
   "name": "python3"
  },
  "language_info": {
   "codemirror_mode": {
    "name": "ipython",
    "version": 3
   },
   "file_extension": ".py",
   "mimetype": "text/x-python",
   "name": "python",
   "nbconvert_exporter": "python",
   "pygments_lexer": "ipython3",
   "version": "3.8.8"
  }
 },
 "nbformat": 4,
 "nbformat_minor": 5
}
