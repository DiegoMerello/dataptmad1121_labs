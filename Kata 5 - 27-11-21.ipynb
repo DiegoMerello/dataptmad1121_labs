{
 "cells": [
  {
   "cell_type": "code",
   "execution_count": 35,
   "id": "c04c29fe",
   "metadata": {},
   "outputs": [
    {
     "name": "stdout",
     "output_type": "stream",
     "text": [
      "[(2, 10, 20), (2, 10, 15), (2, 20, 15), (10, 20, 15)]\n"
     ]
    },
    {
     "data": {
      "text/plain": [
       "[400, 300, 600, 3000]"
      ]
     },
     "execution_count": 35,
     "metadata": {},
     "output_type": "execute_result"
    }
   ],
   "source": [
    "from itertools import combinations\n",
    "import numpy as np\n",
    "\n",
    "lst = [2, 10, 20, 15]\n",
    "lst_1 = list(combinations(lst,3))\n",
    "print(lst_1)\n",
    "\n",
    "prod_list = []\n",
    "for i in lst_1:\n",
    "    prod_list.append(np.prod(i))\n",
    "prod_list"
   ]
  },
  {
   "cell_type": "code",
   "execution_count": null,
   "id": "3793146a",
   "metadata": {},
   "outputs": [],
   "source": []
  }
 ],
 "metadata": {
  "kernelspec": {
   "display_name": "Python 3",
   "language": "python",
   "name": "python3"
  },
  "language_info": {
   "codemirror_mode": {
    "name": "ipython",
    "version": 3
   },
   "file_extension": ".py",
   "mimetype": "text/x-python",
   "name": "python",
   "nbconvert_exporter": "python",
   "pygments_lexer": "ipython3",
   "version": "3.8.8"
  }
 },
 "nbformat": 4,
 "nbformat_minor": 5
}
