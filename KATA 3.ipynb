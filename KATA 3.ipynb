{
 "cells": [
  {
   "cell_type": "markdown",
   "id": "edceee3c",
   "metadata": {},
   "source": [
    "# COLOURED TRIANGLES"
   ]
  },
  {
   "cell_type": "code",
   "execution_count": 16,
   "id": "49de7684",
   "metadata": {},
   "outputs": [],
   "source": [
    "# input='RGBGGRBRG'\n",
    "# output='B'\n",
    "\n",
    "row = 'RRRR'\n",
    "for i in range(len(row)):\n",
    "    if i == (i+1):\n",
    "        print(i)\n",
    "    \n",
    "        "
   ]
  },
  {
   "cell_type": "code",
   "execution_count": 12,
   "id": "cc3223d5",
   "metadata": {},
   "outputs": [
    {
     "ename": "SyntaxError",
     "evalue": "invalid syntax (Temp/ipykernel_7644/4012652128.py, line 7)",
     "output_type": "error",
     "traceback": [
      "\u001b[1;36m  File \u001b[1;32m\"C:\\Users\\DIEGOM~1\\AppData\\Local\\Temp/ipykernel_7644/4012652128.py\"\u001b[1;36m, line \u001b[1;32m7\u001b[0m\n\u001b[1;33m    elif let1 =get_ipython().getoutput(' let:')\u001b[0m\n\u001b[1;37m              ^\u001b[0m\n\u001b[1;31mSyntaxError\u001b[0m\u001b[1;31m:\u001b[0m invalid syntax\n"
     ]
    }
   ],
   "source": [
    "let1 = 'B'\n",
    "let2 = 'R'\n",
    "let3 = 'G'\n",
    "def return_other_letter(let_1, let_2):\n",
    "    if let1 == let2:\n",
    "        return(let1)\n",
    "    elif let1 =! let:\n",
    "        \n",
    "    \n",
    "    "
   ]
  },
  {
   "cell_type": "code",
   "execution_count": null,
   "id": "9fddf27f",
   "metadata": {},
   "outputs": [],
   "source": [
    "def triangle(row):\n",
    "    for letra in row:\n",
    "        \n",
    "        "
   ]
  },
  {
   "cell_type": "code",
   "execution_count": null,
   "id": "b0436411",
   "metadata": {},
   "outputs": [],
   "source": []
  },
  {
   "cell_type": "code",
   "execution_count": null,
   "id": "963d0ee3",
   "metadata": {},
   "outputs": [],
   "source": []
  },
  {
   "cell_type": "code",
   "execution_count": null,
   "id": "31495cac",
   "metadata": {},
   "outputs": [],
   "source": []
  },
  {
   "cell_type": "code",
   "execution_count": null,
   "id": "513111be",
   "metadata": {},
   "outputs": [],
   "source": []
  }
 ],
 "metadata": {
  "kernelspec": {
   "display_name": "Python 3",
   "language": "python",
   "name": "python3"
  },
  "language_info": {
   "codemirror_mode": {
    "name": "ipython",
    "version": 3
   },
   "file_extension": ".py",
   "mimetype": "text/x-python",
   "name": "python",
   "nbconvert_exporter": "python",
   "pygments_lexer": "ipython3",
   "version": "3.8.8"
  }
 },
 "nbformat": 4,
 "nbformat_minor": 5
}
