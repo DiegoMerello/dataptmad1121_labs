{
 "cells": [
  {
   "cell_type": "code",
   "execution_count": 1,
   "metadata": {},
   "outputs": [
    {
     "name": "stdout",
     "output_type": "stream",
     "text": [
      "Welcome to this calculator!\n",
      "It can add and subtract whole numbers from zero to five\n",
      "Please choose your first number (zero to five): 3\n",
      "What do you want to do? plus or minus: minus\n",
      "Please choose your second number (zero to five): 1\n",
      "Sorry, I cannot make the operation.\n",
      "Time:  0.0\n"
     ]
    }
   ],
   "source": [
    "import time\n",
    "numbers = {\n",
    "    'zero':0, \n",
    "    'one':1, \n",
    "    'two':2, \n",
    "    'three':3, \n",
    "    'four':4, \n",
    "    'five':5\n",
    "}\n",
    "results = {\n",
    "    0: 'zero',\n",
    "    1: 'one',\n",
    "    2: 'two',\n",
    "    3: 'three',\n",
    "    4: 'four',\n",
    "    5: 'five',\n",
    "    6: 'six',\n",
    "    7: 'seven',\n",
    "    8 : 'eight',\n",
    "    9: 'nine',\n",
    "    10: 'ten',\n",
    "    -1: 'negative one', \n",
    "    -2: 'negative two', \n",
    "    -3: 'negative three',\n",
    "    -4: 'negative four',\n",
    "    -5: 'negative five'\n",
    "}\n",
    "print('Welcome to this calculator!')\n",
    "print('It can add and subtract whole numbers from zero to five')\n",
    "a = input('Please choose your first number (zero to five): ')\n",
    "b = input('What do you want to do? plus or minus: ')\n",
    "c = input('Please choose your second number (zero to five): ')\n",
    "start_time = time.time()\n",
    "if b == 'plus' and a in numbers.keys() and c in numbers.keys():\n",
    "    sum = numbers[a] + numbers[c]\n",
    "    print (a, 'plus', c, 'equals', results[sum])\n",
    "elif b == 'minus' and a in numbers.keys() and c in numbers.keys():\n",
    "    difference = numbers[a] - numbers[c]\n",
    "    print (a, 'minus', c, 'equals', results[difference])\n",
    "else: \n",
    "    print('Sorry, I cannot make the operation.')\n",
    "end_time= time.time()\n",
    "total_time = end_time - start_time\n",
    "print('Time: ', total_time)"
   ]
  },
  {
   "cell_type": "code",
   "execution_count": 2,
   "metadata": {},
   "outputs": [],
   "source": [
    "name_to_number={\"negative five\":-5,\"negative four\":-4,\"negative three\":-3, \"negative two\":-2,\"negative one\":-1,\"zero\":0,\"one\":1,\"two\":2,\"three\":3,\"four\":4,\"five\":5,\"six\":6,\"seven\":7,\"eight\":8,\"nine\":9,\"ten\":9}\n",
    "\n",
    "def calculator():\n",
    "    print('Welcome to this calculator!')\n",
    "    print('It can add and subtract whole numbers from zero to five')\n",
    "    a = input('Please choose your first number (zero to five): ')\n",
    "    b = input('What do you want to do? plus or minus: ')\n",
    "    c = input('Please choose your second number (zero to five): ')\n",
    "    try:\n",
    "        a_num=name_to_number[a]\n",
    "        c_num=name_to_number[c]\n",
    "        if b==\"plus\":\n",
    "            total=a_num+c_num\n",
    "            total_text=(list(name_to_number.keys())[list(name_to_number.values()).index(total)])\n",
    "            print(f'{a} {b} {c} equals {total_text}')\n",
    "            return print(\"Thanks for using this calculator, goodbye :)\")\n",
    "        elif b==\"minus\":\n",
    "            total=a_num-c_num\n",
    "            total_text=(list(name_to_number.keys())[list(name_to_number.values()).index(total)])\n",
    "            print(f'{a} {b} {c} equals {total_text}')\n",
    "            return print(\"Thanks for using this calculator, goodbye :)\")\n",
    "    except:\n",
    "        print(\"I am not able to answer this question. Check your input.\")"
   ]
  },
  {
   "cell_type": "code",
   "execution_count": 3,
   "metadata": {},
   "outputs": [
    {
     "name": "stdout",
     "output_type": "stream",
     "text": [
      "Welcome to this calculator!\n",
      "It can add and subtract whole numbers from zero to five\n",
      "Please choose your first number (zero to five): 3\n",
      "What do you want to do? plus or minus: plus\n",
      "Please choose your second number (zero to five): 2\n",
      "I am not able to answer this question. Check your input.\n"
     ]
    }
   ],
   "source": [
    "calculator()"
   ]
  },
  {
   "cell_type": "code",
   "execution_count": null,
   "metadata": {},
   "outputs": [],
   "source": []
  }
 ],
 "metadata": {
  "interpreter": {
   "hash": "2bc09bf454ef6084b2073f765cd749b2409e85558251b7d56a0e960b437bb403"
  },
  "kernelspec": {
   "display_name": "Python [conda env:Ironhack]",
   "language": "python",
   "name": "conda-env-Ironhack-py"
  },
  "language_info": {
   "codemirror_mode": {
    "name": "ipython",
    "version": 3
   },
   "file_extension": ".py",
   "mimetype": "text/x-python",
   "name": "python",
   "nbconvert_exporter": "python",
   "pygments_lexer": "ipython3",
   "version": "3.8.12"
  }
 },
 "nbformat": 4,
 "nbformat_minor": 2
}
