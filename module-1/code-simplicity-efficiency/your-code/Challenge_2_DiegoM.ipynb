{
 "cells": [
  {
   "cell_type": "code",
   "execution_count": 1,
   "id": "a1be3509",
   "metadata": {},
   "outputs": [
    {
     "name": "stdout",
     "output_type": "stream",
     "text": [
      "Enter minimum string length: 3\n",
      "Enter maximum string length: 7\n",
      "How many random strings to generate? 2\n"
     ]
    },
    {
     "data": {
      "text/plain": [
       "['s0lpnc', 'dywv4']"
      ]
     },
     "execution_count": 1,
     "metadata": {},
     "output_type": "execute_result"
    }
   ],
   "source": [
    "import random, string\n",
    "def BatchStringGenerator():\n",
    "    a = input('Enter minimum string length: ')\n",
    "    b = input('Enter maximum string length: ')\n",
    "    n = input('How many random strings to generate? ')\n",
    "    r=[]\n",
    "    for i in range(int(n)):\n",
    "        longitud = [random.randint(int(a),int(b))]\n",
    "        x = ''.join(random.choices(string.ascii_lowercase + string.digits, k=longitud[0]))\n",
    "        r.append(x)\n",
    "    return r\n",
    "\n",
    "BatchStringGenerator()"
   ]
  },
  {
   "cell_type": "code",
   "execution_count": null,
   "id": "aef8ae8f",
   "metadata": {},
   "outputs": [],
   "source": []
  }
 ],
 "metadata": {
  "kernelspec": {
   "display_name": "Python [conda env:Ironhack]",
   "language": "python",
   "name": "conda-env-Ironhack-py"
  },
  "language_info": {
   "codemirror_mode": {
    "name": "ipython",
    "version": 3
   },
   "file_extension": ".py",
   "mimetype": "text/x-python",
   "name": "python",
   "nbconvert_exporter": "python",
   "pygments_lexer": "ipython3",
   "version": "3.8.12"
  }
 },
 "nbformat": 4,
 "nbformat_minor": 5
}
