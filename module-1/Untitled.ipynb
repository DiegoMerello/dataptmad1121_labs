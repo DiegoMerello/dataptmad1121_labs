{
 "cells": [
  {
   "cell_type": "code",
   "execution_count": null,
   "id": "a8029d4a",
   "metadata": {},
   "outputs": [],
   "source": [
    "import pandas as pd\n",
    "import requests\n",
    "import bs4\n",
    "import numpy as np\n",
    "import re"
   ]
  },
  {
   "cell_type": "code",
   "execution_count": null,
   "id": "338508fa",
   "metadata": {},
   "outputs": [],
   "source": [
    "def html_get(url):\n",
    "    response =requests.get(url)\n",
    "    return response.content"
   ]
  },
  {
   "cell_type": "code",
   "execution_count": null,
   "id": "4f8c6543",
   "metadata": {},
   "outputs": [],
   "source": [
    "def html_parsing(html,parser):\n",
    "    return bs4.BeautifulSoup(html, parser)"
   ]
  },
  {
   "cell_type": "code",
   "execution_count": null,
   "id": "652aa034",
   "metadata": {},
   "outputs": [],
   "source": [
    "def get_wikitable(soup):\n",
    "    return soup.find_all('table', {'class':'wikitable'})"
   ]
  },
  {
   "cell_type": "code",
   "execution_count": null,
   "id": "3a59f08d",
   "metadata": {},
   "outputs": [],
   "source": []
  }
 ],
 "metadata": {
  "kernelspec": {
   "display_name": "Python [conda env:Ironhack]",
   "language": "python",
   "name": "conda-env-Ironhack-py"
  },
  "language_info": {
   "codemirror_mode": {
    "name": "ipython",
    "version": 3
   },
   "file_extension": ".py",
   "mimetype": "text/x-python",
   "name": "python",
   "nbconvert_exporter": "python",
   "pygments_lexer": "ipython3",
   "version": "3.8.12"
  }
 },
 "nbformat": 4,
 "nbformat_minor": 5
}
