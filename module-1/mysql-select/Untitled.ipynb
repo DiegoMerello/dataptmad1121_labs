{
 "cells": [
  {
   "cell_type": "code",
   "execution_count": null,
   "id": "dd6b4a65",
   "metadata": {},
   "outputs": [],
   "source": [
    "SELECT authors.au_id AS 'AUTHORD ID', authors.au_lname as 'LAST NAME', authors.au_fname AS 'FIRST NAME', t.title as 'TITLE', p.pub_name as 'PUBLISHER' \n",
    "FROM  authors\n",
    "INNER JOIN titleauthor on authors.au_id = titleauthor.au_id \n",
    "INNER JOIN titles as t on t.title_id=titleauthor.title_id\n",
    "INNER JOIN publishers as p on t.pub_id = p.pub_id \n"
   ]
  },
  {
   "cell_type": "code",
   "execution_count": null,
   "id": "9bdeb353",
   "metadata": {},
   "outputs": [],
   "source": [
    "SELECT a.au_id AS 'AUTHORD ID', a.au_lname as 'LAST NAME', a.au_fname AS 'FIRST NAME', p.pub_name as 'PUBLISHER', COUNT(p.pub_name) AS 'TITLES' \n",
    "from publishers p \n",
    "inner join titles t on t.pub_id =p.pub_id\n",
    "inner join titleauthor t2 on t2.title_id =t.title_id \n",
    "inner join authors a on a.au_id =t2.au_id \n",
    "group by a.au_id\n",
    "order by 'AUTHOR ID' DESC "
   ]
  }
 ],
 "metadata": {
  "kernelspec": {
   "display_name": "Python [conda env:Ironhack]",
   "language": "python",
   "name": "conda-env-Ironhack-py"
  },
  "language_info": {
   "codemirror_mode": {
    "name": "ipython",
    "version": 3
   },
   "file_extension": ".py",
   "mimetype": "text/x-python",
   "name": "python",
   "nbconvert_exporter": "python",
   "pygments_lexer": "ipython3",
   "version": "3.8.12"
  }
 },
 "nbformat": 4,
 "nbformat_minor": 5
}
