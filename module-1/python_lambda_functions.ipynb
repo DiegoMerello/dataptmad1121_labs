{
 "cells": [
  {
   "cell_type": "markdown",
   "id": "b621af6c",
   "metadata": {},
   "source": [
    "# Lambda Functions\n",
    "\n",
    "- Is an Anonymous Function\n",
    "\n",
    "- Usually, is meant for one-time use.\n",
    "\n",
    "- Can have only One Expression."
   ]
  },
  {
   "cell_type": "code",
   "execution_count": null,
   "id": "5e8f11a2",
   "metadata": {},
   "outputs": [],
   "source": [
    "# Function\n",
    "\n",
    "def currency_converter(amount, rate):\n",
    "    return amount * rate"
   ]
  },
  {
   "cell_type": "code",
   "execution_count": null,
   "id": "22d25aae",
   "metadata": {},
   "outputs": [],
   "source": [
    "euro_amount = 500\n",
    "current_rate = 0.88\n",
    "\n",
    "currency_converter(euro_amount, current_rate)"
   ]
  },
  {
   "cell_type": "markdown",
   "id": "69331a78",
   "metadata": {},
   "source": [
    "---"
   ]
  },
  {
   "cell_type": "code",
   "execution_count": null,
   "id": "4c64437b",
   "metadata": {},
   "outputs": [],
   "source": [
    "# Lambda function son funciones anónimos, lo que significa que son funciones sin nombre\n",
    "\n",
    "lambda_converter = lambda amount, rate : amount * rate"
   ]
  },
  {
   "cell_type": "code",
   "execution_count": null,
   "id": "98cf95e6",
   "metadata": {},
   "outputs": [],
   "source": [
    "euro_amount = 500\n",
    "current_rate = 0.88\n",
    "\n",
    "lambda_converter(euro_amount, current_rate)"
   ]
  },
  {
   "cell_type": "markdown",
   "id": "c8027fde",
   "metadata": {},
   "source": [
    "---"
   ]
  },
  {
   "cell_type": "code",
   "execution_count": null,
   "id": "237e2495",
   "metadata": {},
   "outputs": [],
   "source": [
    "# Lambda function with condition\n",
    "\n",
    "clever_converter = lambda amount, rate, bid : amount * rate if bid >= rate else \"I'm not interested\""
   ]
  },
  {
   "cell_type": "code",
   "execution_count": null,
   "id": "4841948f",
   "metadata": {},
   "outputs": [],
   "source": [
    "euro_amount = 500\n",
    "current_rate = 0.88\n",
    "offered_bid = 0.7\n",
    "\n",
    "clever_converter(euro_amount, current_rate, offered_bid)"
   ]
  },
  {
   "cell_type": "markdown",
   "id": "6c11c34f",
   "metadata": {},
   "source": [
    "---"
   ]
  },
  {
   "cell_type": "code",
   "execution_count": 1,
   "id": "23e271f5",
   "metadata": {},
   "outputs": [
    {
     "data": {
      "text/plain": [
       "[1065, 458, 1734, 336, 31, 315, 480, 171, 907, 989]"
      ]
     },
     "execution_count": 1,
     "metadata": {},
     "output_type": "execute_result"
    }
   ],
   "source": [
    "# Lambda function and list comprehensions\n",
    "\n",
    "import random\n",
    "\n",
    "random_amounts = [random.randint(20, 2000) for i in range(10)]\n",
    "random_amounts\n"
   ]
  },
  {
   "cell_type": "code",
   "execution_count": 2,
   "id": "446f1d5d",
   "metadata": {},
   "outputs": [
    {
     "data": {
      "text/plain": [
       "[937.2, 403.04, 1525.92, 295.68, 27.28, 277.2, 422.4, 150.48, 798.16, 870.32]"
      ]
     },
     "execution_count": 2,
     "metadata": {},
     "output_type": "execute_result"
    }
   ],
   "source": [
    "[(lambda amount : round(amount * 0.88, 2))(amount) for amount in random_amounts]"
   ]
  },
  {
   "cell_type": "code",
   "execution_count": null,
   "id": "03483cb4",
   "metadata": {},
   "outputs": [],
   "source": []
  }
 ],
 "metadata": {
  "kernelspec": {
   "display_name": "Python [conda env:jp-env] *",
   "language": "python",
   "name": "conda-env-jp-env-py"
  },
  "language_info": {
   "codemirror_mode": {
    "name": "ipython",
    "version": 3
   },
   "file_extension": ".py",
   "mimetype": "text/x-python",
   "name": "python",
   "nbconvert_exporter": "python",
   "pygments_lexer": "ipython3",
   "version": "3.9.7"
  }
 },
 "nbformat": 4,
 "nbformat_minor": 5
}
