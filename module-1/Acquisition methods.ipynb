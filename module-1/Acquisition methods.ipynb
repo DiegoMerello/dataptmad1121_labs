{
 "cells": [
  {
   "cell_type": "code",
   "execution_count": 1,
   "id": "149af67d",
   "metadata": {},
   "outputs": [],
   "source": [
    "import pandas as pd\n"
   ]
  },
  {
   "cell_type": "code",
   "execution_count": 2,
   "id": "23b5c6a7",
   "metadata": {},
   "outputs": [],
   "source": [
    "def acquisition(path_file):\n",
    "    dataframe=pd.read_csv(path_file)\n",
    "    return dataframe"
   ]
  },
  {
   "cell_type": "code",
   "execution_count": null,
   "id": "f5e28c87",
   "metadata": {},
   "outputs": [],
   "source": [
    "acquisition('')"
   ]
  }
 ],
 "metadata": {
  "kernelspec": {
   "display_name": "Python [conda env:Ironhack]",
   "language": "python",
   "name": "conda-env-Ironhack-py"
  },
  "language_info": {
   "codemirror_mode": {
    "name": "ipython",
    "version": 3
   },
   "file_extension": ".py",
   "mimetype": "text/x-python",
   "name": "python",
   "nbconvert_exporter": "python",
   "pygments_lexer": "ipython3",
   "version": "3.8.12"
  }
 },
 "nbformat": 4,
 "nbformat_minor": 5
}
